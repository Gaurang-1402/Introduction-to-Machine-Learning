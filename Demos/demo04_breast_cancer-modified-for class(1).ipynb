{
 "cells": [
  {
   "cell_type": "markdown",
   "metadata": {},
   "source": [
    "#  Breast Cancer Diagnosis via Logistic Regression"
   ]
  },
  {
   "cell_type": "markdown",
   "metadata": {},
   "source": [
    "In this demo, we will see how to visualize training data for classification, plot the logistic function and perform logistic regression.  As an example, we will use the widely-used breast cancer data set.  This data set is described here:\n",
    "\n",
    "https://archive.ics.uci.edu/ml/machine-learning-databases/breast-cancer-wisconsin\n",
    "\n",
    "Each sample is a collection of features that were manually recorded by a physician upon inspecting a sample of cells from fine needle aspiration.  The goal is to detect if the cells are benign or malignant."
   ]
  },
  {
   "cell_type": "markdown",
   "metadata": {},
   "source": [
    "## Loading and Visualizing the Data\n",
    "\n",
    "We first load the packages as usual."
   ]
  },
  {
   "cell_type": "code",
   "execution_count": 1,
   "metadata": {},
   "outputs": [],
   "source": [
    "import numpy as np\n",
    "import matplotlib\n",
    "import matplotlib.pyplot as plt\n",
    "import pandas as pd\n",
    "from sklearn import datasets, linear_model\n",
    "from sklearn.preprocessing import StandardScaler\n",
    "from sklearn.model_selection import train_test_split\n",
    "%matplotlib inline"
   ]
  },
  {
   "cell_type": "markdown",
   "metadata": {},
   "source": [
    "Next, we load the data.  It is important to remove the missing values."
   ]
  },
  {
   "cell_type": "code",
   "execution_count": 2,
   "metadata": {},
   "outputs": [
    {
     "data": {
      "text/html": [
       "<div>\n",
       "<style scoped>\n",
       "    .dataframe tbody tr th:only-of-type {\n",
       "        vertical-align: middle;\n",
       "    }\n",
       "\n",
       "    .dataframe tbody tr th {\n",
       "        vertical-align: top;\n",
       "    }\n",
       "\n",
       "    .dataframe thead th {\n",
       "        text-align: right;\n",
       "    }\n",
       "</style>\n",
       "<table border=\"1\" class=\"dataframe\">\n",
       "  <thead>\n",
       "    <tr style=\"text-align: right;\">\n",
       "      <th></th>\n",
       "      <th>id</th>\n",
       "      <th>thick</th>\n",
       "      <th>size_unif</th>\n",
       "      <th>shape_unif</th>\n",
       "      <th>marg</th>\n",
       "      <th>cell_size</th>\n",
       "      <th>bare</th>\n",
       "      <th>chrom</th>\n",
       "      <th>normal</th>\n",
       "      <th>mit</th>\n",
       "      <th>class</th>\n",
       "    </tr>\n",
       "  </thead>\n",
       "  <tbody>\n",
       "    <tr>\n",
       "      <th>0</th>\n",
       "      <td>1000025</td>\n",
       "      <td>5</td>\n",
       "      <td>1</td>\n",
       "      <td>1</td>\n",
       "      <td>1</td>\n",
       "      <td>2</td>\n",
       "      <td>1.0</td>\n",
       "      <td>3</td>\n",
       "      <td>1</td>\n",
       "      <td>1</td>\n",
       "      <td>2</td>\n",
       "    </tr>\n",
       "    <tr>\n",
       "      <th>1</th>\n",
       "      <td>1002945</td>\n",
       "      <td>5</td>\n",
       "      <td>4</td>\n",
       "      <td>4</td>\n",
       "      <td>5</td>\n",
       "      <td>7</td>\n",
       "      <td>10.0</td>\n",
       "      <td>3</td>\n",
       "      <td>2</td>\n",
       "      <td>1</td>\n",
       "      <td>2</td>\n",
       "    </tr>\n",
       "    <tr>\n",
       "      <th>2</th>\n",
       "      <td>1015425</td>\n",
       "      <td>3</td>\n",
       "      <td>1</td>\n",
       "      <td>1</td>\n",
       "      <td>1</td>\n",
       "      <td>2</td>\n",
       "      <td>2.0</td>\n",
       "      <td>3</td>\n",
       "      <td>1</td>\n",
       "      <td>1</td>\n",
       "      <td>2</td>\n",
       "    </tr>\n",
       "    <tr>\n",
       "      <th>3</th>\n",
       "      <td>1016277</td>\n",
       "      <td>6</td>\n",
       "      <td>8</td>\n",
       "      <td>8</td>\n",
       "      <td>1</td>\n",
       "      <td>3</td>\n",
       "      <td>4.0</td>\n",
       "      <td>3</td>\n",
       "      <td>7</td>\n",
       "      <td>1</td>\n",
       "      <td>2</td>\n",
       "    </tr>\n",
       "    <tr>\n",
       "      <th>4</th>\n",
       "      <td>1017023</td>\n",
       "      <td>4</td>\n",
       "      <td>1</td>\n",
       "      <td>1</td>\n",
       "      <td>3</td>\n",
       "      <td>2</td>\n",
       "      <td>1.0</td>\n",
       "      <td>3</td>\n",
       "      <td>1</td>\n",
       "      <td>1</td>\n",
       "      <td>2</td>\n",
       "    </tr>\n",
       "    <tr>\n",
       "      <th>5</th>\n",
       "      <td>1017122</td>\n",
       "      <td>8</td>\n",
       "      <td>10</td>\n",
       "      <td>10</td>\n",
       "      <td>8</td>\n",
       "      <td>7</td>\n",
       "      <td>10.0</td>\n",
       "      <td>9</td>\n",
       "      <td>7</td>\n",
       "      <td>1</td>\n",
       "      <td>4</td>\n",
       "    </tr>\n",
       "  </tbody>\n",
       "</table>\n",
       "</div>"
      ],
      "text/plain": [
       "        id  thick  size_unif  shape_unif  marg  cell_size  bare  chrom  \\\n",
       "0  1000025      5          1           1     1          2   1.0      3   \n",
       "1  1002945      5          4           4     5          7  10.0      3   \n",
       "2  1015425      3          1           1     1          2   2.0      3   \n",
       "3  1016277      6          8           8     1          3   4.0      3   \n",
       "4  1017023      4          1           1     3          2   1.0      3   \n",
       "5  1017122      8         10          10     8          7  10.0      9   \n",
       "\n",
       "   normal  mit  class  \n",
       "0       1    1      2  \n",
       "1       2    1      2  \n",
       "2       1    1      2  \n",
       "3       7    1      2  \n",
       "4       1    1      2  \n",
       "5       7    1      4  "
      ]
     },
     "execution_count": 2,
     "metadata": {},
     "output_type": "execute_result"
    }
   ],
   "source": [
    "names = ['id','thick','size_unif','shape_unif','marg','cell_size','bare',\n",
    "         'chrom','normal','mit','class']\n",
    "df = pd.read_csv('https://archive.ics.uci.edu/ml/machine-learning-databases/' +\n",
    "                 'breast-cancer-wisconsin/breast-cancer-wisconsin.data',\n",
    "                names=names,na_values='?',header=None)\n",
    "\n",
    "df.head(6)"
   ]
  },
  {
   "cell_type": "code",
   "execution_count": 3,
   "metadata": {},
   "outputs": [
    {
     "name": "stdout",
     "output_type": "stream",
     "text": [
      "<class 'pandas.core.frame.DataFrame'>\n",
      "RangeIndex: 699 entries, 0 to 698\n",
      "Data columns (total 11 columns):\n",
      " #   Column      Non-Null Count  Dtype  \n",
      "---  ------      --------------  -----  \n",
      " 0   id          699 non-null    int64  \n",
      " 1   thick       699 non-null    int64  \n",
      " 2   size_unif   699 non-null    int64  \n",
      " 3   shape_unif  699 non-null    int64  \n",
      " 4   marg        699 non-null    int64  \n",
      " 5   cell_size   699 non-null    int64  \n",
      " 6   bare        683 non-null    float64\n",
      " 7   chrom       699 non-null    int64  \n",
      " 8   normal      699 non-null    int64  \n",
      " 9   mit         699 non-null    int64  \n",
      " 10  class       699 non-null    int64  \n",
      "dtypes: float64(1), int64(10)\n",
      "memory usage: 60.2 KB\n"
     ]
    }
   ],
   "source": [
    "df.info()"
   ]
  },
  {
   "cell_type": "markdown",
   "metadata": {},
   "source": [
    "We see that one feature, *bare*, has only a few missing values. We will drop these rows."
   ]
  },
  {
   "cell_type": "code",
   "execution_count": 4,
   "metadata": {},
   "outputs": [],
   "source": [
    "# Dropping rows with missing values\n",
    "df = df.dropna()"
   ]
  },
  {
   "cell_type": "markdown",
   "metadata": {},
   "source": [
    "## Create train/test split"
   ]
  },
  {
   "cell_type": "code",
   "execution_count": 5,
   "metadata": {},
   "outputs": [],
   "source": [
    "# Get the response.  Convert to a zero-one indicator \n",
    "yraw = np.array(df['class'])\n",
    "BEN_VAL = 2   # value in the 'class' label for benign samples\n",
    "MAL_VAL = 4   # value in the 'class' label for malignant samples\n",
    "y = (yraw == MAL_VAL).astype(int)\n",
    "\n",
    "#For plotting, we will collect which indexes are for each class\n",
    "Iben = (y==0)\n",
    "Imal = (y==1)\n",
    "\n"
   ]
  },
  {
   "cell_type": "markdown",
   "metadata": {},
   "source": [
    "## We will use the entire data set in the next examples to build motivation for logisitic regression"
   ]
  },
  {
   "cell_type": "code",
   "execution_count": 6,
   "metadata": {},
   "outputs": [],
   "source": [
    "# Get two predictors\n",
    "xnames =['size_unif','marg'] \n",
    "X = np.array(df[xnames])"
   ]
  },
  {
   "cell_type": "markdown",
   "metadata": {},
   "source": [
    "After loading the data, we can create a scatter plot of the data labeling the class values with different colors.  We will pick two of the features.  "
   ]
  },
  {
   "cell_type": "code",
   "execution_count": 7,
   "metadata": {
    "scrolled": true
   },
   "outputs": [
    {
     "data": {
      "text/plain": [
       "<matplotlib.legend.Legend at 0x7fc8ec1167d0>"
      ]
     },
     "execution_count": 7,
     "metadata": {},
     "output_type": "execute_result"
    },
    {
     "data": {
      "image/png": "[encoded data removed]",
      "text/plain": [
       "<Figure size 432x288 with 1 Axes>"
      ]
     },
     "metadata": {
      "needs_background": "light"
     },
     "output_type": "display_data"
    }
   ],
   "source": [
    "\n",
    "# Create the scatter plot\n",
    "plt.plot(X[Imal,0],X[Imal,1],'r.')\n",
    "plt.plot(X[Iben,0],X[Iben,1],'g.')\n",
    "plt.xlabel(xnames[0], fontsize=16)\n",
    "plt.ylabel(xnames[1], fontsize=16)\n",
    "plt.ylim(0,14)\n",
    "plt.legend(['malign','benign'],loc='upper right')"
   ]
  },
  {
   "cell_type": "markdown",
   "metadata": {},
   "source": [
    "The above plot is not informative, since many of the points are on top of one another.  Thus, we cannot see the relative frequency of points.  \n",
    "\n",
    "One way to improve the plot is to draw circles on each point whose size is proportional to the count of samples at that point.  We will re-use this code, so we define a function. "
   ]
  },
  {
   "cell_type": "code",
   "execution_count": 8,
   "metadata": {
    "scrolled": true
   },
   "outputs": [
    {
     "data": {
      "text/plain": [
       "<module 'matplotlib.pyplot' from '/Users/lindasellie/anaconda3/lib/python3.7/site-packages/matplotlib/pyplot.py'>"
      ]
     },
     "execution_count": 8,
     "metadata": {},
     "output_type": "execute_result"
    },
    {
     "data": {
      "image/png": "[encoded data removed]",
      "text/plain": [
       "<Figure size 432x288 with 1 Axes>"
      ]
     },
     "metadata": {
      "needs_background": "light"
     },
     "output_type": "display_data"
    }
   ],
   "source": [
    "def plot_cnt(X,y):\n",
    "    \n",
    "    # Compute the bin edges for the 2d histogram\n",
    "    x0val = np.array(list(set(X[:,0]))).astype(float)\n",
    "    x1val = np.array(list(set(X[:,1]))).astype(float)\n",
    "    x0, x1 = np.meshgrid(x0val,x1val)\n",
    "    x0e= np.hstack((x0val,np.max(x0val)+1))\n",
    "    x1e= np.hstack((x1val,np.max(x1val)+1))\n",
    "\n",
    "    # Make a plot for each class\n",
    "    yval = list(set(y))\n",
    "    color = ['g','r']\n",
    "    for i in range(len(yval)):\n",
    "        I = np.where(y==yval[i])[0]\n",
    "        cnt, x0e, x1e = np.histogram2d(X[I,0],X[I,1],[x0e,x1e])\n",
    "        x0, x1 = np.meshgrid(x0val,x1val)\n",
    "        plt.scatter(x0.ravel(), x1.ravel(), s=2*cnt.ravel(),alpha=0.5,\n",
    "                    c=color[i],edgecolors='none')\n",
    "    plt.ylim([0,14])\n",
    "    plt.legend(['benign','malign'], loc='upper right')\n",
    "    plt.xlabel(xnames[0], fontsize=16)\n",
    "    plt.ylabel(xnames[1], fontsize=16)\n",
    "    return plt\n",
    "\n",
    "plot_cnt(X,y)"
   ]
  },
  {
   "cell_type": "markdown",
   "metadata": {},
   "source": [
    "## Try at home exercise\n",
    "\n",
    "Based on the above plot, what would be a good \"classifer\" using the two features.  That is, write a function that makes a prediction `yhat` of the class label `y`.  Code up your classifier function.  Measure the accuracy of the classifier on the data.  What percentage error does your classifier get?"
   ]
  },
  {
   "cell_type": "code",
   "execution_count": 9,
   "metadata": {},
   "outputs": [],
   "source": [
    "# TODO"
   ]
  },
  {
   "cell_type": "markdown",
   "metadata": {},
   "source": [
    "## Some Simple Classification ideas"
   ]
  },
  {
   "cell_type": "markdown",
   "metadata": {},
   "source": [
    "Here are some ideas for classification that you may have already thought of.  We can see that the benign samples are located in the lower left.  So, one simple classification rule is to define the region with a line.  We plot the region for one possible line with the following code."
   ]
  },
  {
   "cell_type": "code",
   "execution_count": 10,
   "metadata": {},
   "outputs": [
    {
     "data": {
      "text/plain": [
       "<matplotlib.patches.Polygon at 0x7fc8ec4db6d0>"
      ]
     },
     "execution_count": 10,
     "metadata": {},
     "output_type": "execute_result"
    },
    {
     "data": {
      "image/png": "[encoded data removed]",
      "text/plain": [
       "<Figure size 432x288 with 1 Axes>"
      ]
     },
     "metadata": {
      "needs_background": "light"
     },
     "output_type": "display_data"
    }
   ],
   "source": [
    "from matplotlib import patches\n",
    "plt = plot_cnt(X,y)\n",
    "\n",
    "ax = plt.gca() \n",
    "ax.add_patch(\n",
    "    patches.Polygon([[0,0],[0,4],[6,0]],\n",
    "        color='green',\n",
    "        fill=False, hatch = '//'\n",
    "    )\n",
    ")"
   ]
  },
  {
   "cell_type": "markdown",
   "metadata": {},
   "source": [
    "Here is an alternate classification rule based on two linear constraints."
   ]
  },
  {
   "cell_type": "code",
   "execution_count": 11,
   "metadata": {},
   "outputs": [
    {
     "data": {
      "text/plain": [
       "<matplotlib.patches.Rectangle at 0x7fc8ec716190>"
      ]
     },
     "execution_count": 11,
     "metadata": {},
     "output_type": "execute_result"
    },
    {
     "data": {
      "image/png": "[encoded data removed]",
      "text/plain": [
       "<Figure size 432x288 with 1 Axes>"
      ]
     },
     "metadata": {
      "needs_background": "light"
     },
     "output_type": "display_data"
    }
   ],
   "source": [
    "plt = plot_cnt(X,y)\n",
    "ax = plt.gca()\n",
    "ax.add_patch(\n",
    "    patches.Rectangle(\n",
    "        (0, 0),   # (x,y)\n",
    "        width=3.5, height=4.5,  color='green',\n",
    "        fill=False, hatch = '//'\n",
    "    )\n",
    ")"
   ]
  },
  {
   "cell_type": "markdown",
   "metadata": {},
   "source": [
    "## Logistic Functions\n"
   ]
  },
  {
   "cell_type": "markdown",
   "metadata": {},
   "source": [
    "This demo illustrate an important classifier known as *logistic regression*.  In logistic regression, we do not just output an estimate of the class label, `yhat`.  Instead, we ouput a *probability*, an estimate of how likely the sample is one class or the other.  That is our output is a number from 0 to 1 representing the likelihood:\n",
    "$$\n",
    "    P(y = 1|x)\n",
    "$$\n",
    "which is our estimate of the probability that the sample is one class (in this case, a malignant sample) based on the features `x`.  This is sometimes called a *soft classifier*.  \n",
    "\n",
    "In logistic regression, we assume that likelihood is of the form\n",
    "$$\n",
    "    P(y=1|x) = \\sigma(z),  \\quad z = w_0 + w_1x_1 + \\cdots + w_kx_k,  \n",
    "$$\n",
    "where $w_0,\\ldots,w_k$ are the classifier weights and $\\sigma(z)$ is the so-called *logistic* function:\n",
    "$$\n",
    "    \\sigma(z) = \\frac{1}{1+e^{-z}}.\n",
    "$$\n",
    "\n",
    "To understand the logistic function, suppose $x$ is a scalar and samples $y$ are drawn with $P(y=1|x) = \\sigma(w_1x)$ for some scaling constant $w_1$.  We plot these samples for different $w_1$."
   ]
  },
  {
   "cell_type": "code",
   "execution_count": 12,
   "metadata": {},
   "outputs": [
    {
     "name": "stdout",
     "output_type": "stream",
     "text": [
      "[0.90772213 0.97338649 0.99239741 0.3668071  0.07900309 0.98519307\n",
      " 0.18997811 0.98431123 0.7354969  0.98962912]\n",
      "[0.2049737  0.74167694 0.90477485 0.66148211 0.29871253 0.16224407\n",
      " 0.23730503 0.50429046 0.79306749 0.79452217]\n",
      "[ True  True  True  True False  True  True  True  True  True]\n"
     ]
    }
   ],
   "source": [
    "import numpy as np\n",
    "w1 = 0.5\n",
    "xm = 10\n",
    "nx = 100\n",
    "x  = np.random.uniform(-xm,xm,nx)\n",
    "py = 1/(1+np.exp(-w1*x)) # sigmoid with z = -w1*x\n",
    "print(py[0:10])\n",
    "print(np.random.rand(nx)[0:10])\n",
    "print((np.random.rand(nx) < py)[0:10])"
   ]
  },
  {
   "cell_type": "code",
   "execution_count": 13,
   "metadata": {},
   "outputs": [
    {
     "data": {
      "image/png": "[encoded data removed]",
      "text/plain": [
       "<Figure size 432x288 with 4 Axes>"
      ]
     },
     "metadata": {
      "needs_background": "light"
     },
     "output_type": "display_data"
    }
   ],
   "source": [
    "nx = 100\n",
    "xm = 10\n",
    "w1s = np.array([0.5,1,2,10])\n",
    "nplot = w1s.size\n",
    "iplot = 0\n",
    "for w1 in w1s:\n",
    "    iplot += 1 # index for where to put the plot\n",
    "    x  = np.random.uniform(-xm,xm,nx) # create a numpy array with parameters(lower bound, upper bound, size)\n",
    "    plt.subplot(1,nplot,iplot)  #tells where to put the plot\n",
    "    py = 1/(1+np.exp(-w1*x)) # sigmoid with z = -w1*x\n",
    "    yp = np.array(np.random.rand(nx) < py) #np.random.rand creates nx random numbers in [0,1] uniform dist.\n",
    "    xp = np.linspace(-xm,xm,100) # 100 items equally spaced from -10 to 10\n",
    "    pyp = 1/(1+np.exp(-w1*xp)) # sigmoid of equally spaced items where z=w1*xp\n",
    "\n",
    "    plt.scatter(x,yp,c=yp,edgecolors='none',marker='+')\n",
    "    plt.plot(xp,pyp,'b-') # plot of sigmoid function \n",
    "    plt.axis([-xm,xm,-0.1,1.1])\n",
    "    plt.grid()\n",
    "    if (iplot > 1):\n",
    "        plt.yticks([])\n",
    "    plt.xticks([-10,0,10])\n",
    "    plt.title('w1={0:.1f}'.format(w1))\n"
   ]
  },
  {
   "cell_type": "markdown",
   "metadata": {},
   "source": [
    "We see that $\\sigma(w_1x)$ represents the probability that $y=1$.  The function $\\sigma(w_1x) > 0.5$ for $x>0$ meaning the samples are more likely to be $y=1$.  Similarly, for $x<0$, the samples are more likely to $y=0$.  The scaling $w_1$ determines how fast that transition is."
   ]
  },
  {
   "cell_type": "markdown",
   "metadata": {},
   "source": [
    "## Fitting the Logistic Model\n",
    "\n",
    "In a logistic model, we must fit the weights $w_0,w_1,\\ldots,w_k$ in the model \n",
    "$$\n",
    "    P(y=1|x) = \\sigma(z),  \\quad z = w_0 + w_1x_1 + \\cdots + w_kx_k,  \n",
    "$$\n",
    "The `sklearn` module has very good routines for fitting this model.  First we get the training data and samples.  We will standardize the `X` values to make more sense of the slope values. To learn more see: https://scikit-learn.org/stable/modules/generated/sklearn.preprocessing.StandardScaler.html#sklearn.preprocessing.StandardScaler"
   ]
  },
  {
   "cell_type": "code",
   "execution_count": 14,
   "metadata": {},
   "outputs": [],
   "source": [
    "xnames = ['thick','size_unif','shape_unif','marg','cell_size','bare',\n",
    "         'chrom','normal','mit']\n",
    "X = np.array(df[xnames]) # X now contains all the features\n",
    "\n",
    "X_train, X_test, y_train, y_test = train_test_split(X, y, random_state=0)#default is 1/4 test\n",
    "\n",
    "scaler = StandardScaler()\n",
    "X_train= scaler.fit_transform(X_train)\n",
    "X_test = scaler.transform(X_test)"
   ]
  },
  {
   "cell_type": "markdown",
   "metadata": {},
   "source": [
    "Next, we create a logistic regression object. By default, the logistic regresssion object will use $L2$ regularization.  Here we have selected not to have regularization by using *penalty='none'*.  If regularization is used, the parameter `C` states the level of regularization. Higher values of `C` have `less` regularization.    We can chose to set explicity the regularization,  or have the optimal value determined for us.\n",
    "\n",
    "Note that $\\lambda = 1/C$."
   ]
  },
  {
   "cell_type": "code",
   "execution_count": 15,
   "metadata": {},
   "outputs": [],
   "source": [
    "logreg = linear_model.LogisticRegression(penalty='none')"
   ]
  },
  {
   "cell_type": "markdown",
   "metadata": {},
   "source": [
    "Then, we fit the model."
   ]
  },
  {
   "cell_type": "code",
   "execution_count": 16,
   "metadata": {},
   "outputs": [
    {
     "data": {
      "text/plain": [
       "LogisticRegression(penalty='none')"
      ]
     },
     "execution_count": 16,
     "metadata": {},
     "output_type": "execute_result"
    }
   ],
   "source": [
    "logreg.fit(X_train, y_train)"
   ]
  },
  {
   "cell_type": "markdown",
   "metadata": {},
   "source": [
    "We can next compute the accuracy on the test data. Why are we not using the training data?"
   ]
  },
  {
   "cell_type": "code",
   "execution_count": 17,
   "metadata": {},
   "outputs": [
    {
     "name": "stdout",
     "output_type": "stream",
     "text": [
      "Accuracy on test data = 0.947368\n"
     ]
    }
   ],
   "source": [
    "yhat = logreg.predict(X_test)# the predict method will return 0 or 1\n",
    "acc = np.mean(yhat == y_test)\n",
    "print(\"Accuracy on test data = %f\" % acc)"
   ]
  },
  {
   "cell_type": "markdown",
   "metadata": {},
   "source": [
    "It is also useful to print the weights for each feature.  We can use the `pandas` package to make a table. "
   ]
  },
  {
   "cell_type": "code",
   "execution_count": 18,
   "metadata": {},
   "outputs": [
    {
     "name": "stdout",
     "output_type": "stream",
     "text": [
      "[-1.35419454]\n"
     ]
    },
    {
     "data": {
      "text/html": [
       "<div>\n",
       "<style scoped>\n",
       "    .dataframe tbody tr th:only-of-type {\n",
       "        vertical-align: middle;\n",
       "    }\n",
       "\n",
       "    .dataframe tbody tr th {\n",
       "        vertical-align: top;\n",
       "    }\n",
       "\n",
       "    .dataframe thead th {\n",
       "        text-align: right;\n",
       "    }\n",
       "</style>\n",
       "<table border=\"1\" class=\"dataframe\">\n",
       "  <thead>\n",
       "    <tr style=\"text-align: right;\">\n",
       "      <th></th>\n",
       "      <th>feature</th>\n",
       "      <th>slope</th>\n",
       "    </tr>\n",
       "  </thead>\n",
       "  <tbody>\n",
       "    <tr>\n",
       "      <th>0</th>\n",
       "      <td>thick</td>\n",
       "      <td>1.194634</td>\n",
       "    </tr>\n",
       "    <tr>\n",
       "      <th>1</th>\n",
       "      <td>size_unif</td>\n",
       "      <td>0.260756</td>\n",
       "    </tr>\n",
       "    <tr>\n",
       "      <th>2</th>\n",
       "      <td>shape_unif</td>\n",
       "      <td>0.839409</td>\n",
       "    </tr>\n",
       "    <tr>\n",
       "      <th>3</th>\n",
       "      <td>marg</td>\n",
       "      <td>0.615559</td>\n",
       "    </tr>\n",
       "    <tr>\n",
       "      <th>4</th>\n",
       "      <td>cell_size</td>\n",
       "      <td>0.592045</td>\n",
       "    </tr>\n",
       "    <tr>\n",
       "      <th>5</th>\n",
       "      <td>bare</td>\n",
       "      <td>1.601667</td>\n",
       "    </tr>\n",
       "    <tr>\n",
       "      <th>6</th>\n",
       "      <td>chrom</td>\n",
       "      <td>0.843135</td>\n",
       "    </tr>\n",
       "    <tr>\n",
       "      <th>7</th>\n",
       "      <td>normal</td>\n",
       "      <td>0.740983</td>\n",
       "    </tr>\n",
       "    <tr>\n",
       "      <th>8</th>\n",
       "      <td>mit</td>\n",
       "      <td>0.340539</td>\n",
       "    </tr>\n",
       "  </tbody>\n",
       "</table>\n",
       "</div>"
      ],
      "text/plain": [
       "      feature     slope\n",
       "0       thick  1.194634\n",
       "1   size_unif  0.260756\n",
       "2  shape_unif  0.839409\n",
       "3        marg  0.615559\n",
       "4   cell_size  0.592045\n",
       "5        bare  1.601667\n",
       "6       chrom  0.843135\n",
       "7      normal  0.740983\n",
       "8         mit  0.340539"
      ]
     },
     "execution_count": 18,
     "metadata": {},
     "output_type": "execute_result"
    }
   ],
   "source": [
    "print(logreg.intercept_)\n",
    "W=logreg.coef_\n",
    "data = {'feature': xnames, 'slope': np.squeeze(W)}\n",
    "dfslope = pd.DataFrame(data=data)\n",
    "dfslope"
   ]
  },
  {
   "cell_type": "code",
   "execution_count": 19,
   "metadata": {},
   "outputs": [
    {
     "data": {
      "text/plain": [
       "array([[103,   5],\n",
       "       [  4,  59]])"
      ]
     },
     "execution_count": 19,
     "metadata": {},
     "output_type": "execute_result"
    }
   ],
   "source": [
    "# For the test data we can see the number of tpr, fpr, fnr, and tnr in the confusion matrix\n",
    "from sklearn.metrics import confusion_matrix\n",
    "confusion_matrix(yhat, y_test)"
   ]
  },
  {
   "cell_type": "markdown",
   "metadata": {},
   "source": [
    "## Cross-Validation\n",
    "\n",
    "  We perform 4-fold cross-validation and print average precision, recall, f1-score and accuracy.\n"
   ]
  },
  {
   "cell_type": "code",
   "execution_count": 20,
   "metadata": {},
   "outputs": [
    {
     "name": "stdout",
     "output_type": "stream",
     "text": [
      "Precision = 0.9573\n",
      "Recall =    0.9431\n",
      "f1 =        0.9482\n",
      "Accuracy =  0.9648\n"
     ]
    }
   ],
   "source": [
    "from sklearn.model_selection import KFold\n",
    "from sklearn.metrics import precision_recall_fscore_support\n",
    "\n",
    "X_unscaled = scaler.inverse_transform(X_train)\n",
    "nfold = 10\n",
    "kf = KFold(n_splits=nfold)\n",
    "prec = []\n",
    "rec = []\n",
    "f1 = []\n",
    "acc = []\n",
    "\n",
    "for train, test in kf.split(X_unscaled):            \n",
    "    # Get training and test data\n",
    "    Xtr = X_unscaled[train,:]\n",
    "    ytr = y_train[train]\n",
    "    Xts = X_unscaled[test,:]\n",
    "    yts = y_train[test]\n",
    "      \n",
    "    scaler_KFold = StandardScaler()\n",
    "    Xtr= scaler_KFold.fit_transform(Xtr)\n",
    "    Xts = scaler_KFold.transform(Xts)\n",
    "    \n",
    "    # Fit a model\n",
    "    logreg.fit(Xtr, ytr)\n",
    "    yhat = logreg.predict(Xts)\n",
    "    \n",
    "    # Measure performance\n",
    "    preci,reci,f1i,_= precision_recall_fscore_support(yts,yhat,average='binary') \n",
    "    prec.append(preci)\n",
    "    rec.append(reci)\n",
    "    f1.append(f1i)\n",
    "    acci = np.mean(yhat == yts)\n",
    "    acc.append(acci)\n",
    "\n",
    "# Take average values of the metrics\n",
    "precm = np.mean(prec)\n",
    "recm = np.mean(rec)\n",
    "f1m = np.mean(f1)\n",
    "accm= np.mean(acc)\n",
    "\n",
    "\n",
    "\n",
    "print('Precision = {0:.4f}'.format(precm))\n",
    "print('Recall =    {0:.4f}'.format(recm))\n",
    "print('f1 =        {0:.4f}'.format(f1m))\n",
    "print('Accuracy =  {0:.4f}'.format(accm))"
   ]
  },
  {
   "cell_type": "markdown",
   "metadata": {},
   "source": [
    "## ROC curve\n",
    "\n",
    "As discussed above, the logistic classifier outputs a *soft* classification $P(y=1|x)$.  One simple idea is to select the class label $\\hat{y}=1$ whenever $P(y=1|x) > 0.5$.  However, one can also set $\\hat{y}=1$ whenever $P(y=1|x) > t$ for some threshold $t$.  Using higher thresholds values selects $\\hat{y}=0$ more often which results in fewer *false alarms*, but also many *missed detections* (reduces sensitivity).  Similarly, lower thresholds values selects $\\hat{y}=1$ more often which results in fewer *missed detections* (increases *sensitivity*) but also more *false alarms*.  The ROC curve displays this  tradeoff by graphing the *true positive rate* vs. *false positive rate* obtained with different $t$.  \n",
    "\n",
    "The ROC curve can be plotted in the `sklearn` package with the following code."
   ]
  },
  {
   "cell_type": "code",
   "execution_count": 21,
   "metadata": {},
   "outputs": [
    {
     "data": {
      "text/plain": [
       "(0.0, 0.1)"
      ]
     },
     "execution_count": 21,
     "metadata": {},
     "output_type": "execute_result"
    },
    {
     "data": {
      "image/png": "[encoded data removed]",
      "text/plain": [
       "<Figure size 432x288 with 1 Axes>"
      ]
     },
     "metadata": {
      "needs_background": "light"
     },
     "output_type": "display_data"
    }
   ],
   "source": [
    "from sklearn import metrics\n",
    "yprob = logreg.predict_proba(X_train)#predicts the probability of 0 and the probability of 1\n",
    "\n",
    "fpr, tpr, thresholds = metrics.roc_curve(y_train,yprob[:,1]) # compute fpr,tpr for different threaholds\n",
    "#Decreasing thresholds on the decision function used to compute fpr and tpr. \n",
    "#thresholds[0] represents no instances being predicted and is arbitrarily set to max(y_score) + 1.print(thresholds)\n",
    "plt.plot(fpr,tpr)\n",
    "plt.grid()\n",
    "plt.xlabel('FPR')\n",
    "plt.ylabel('TPR')\n",
    "plt.ylim([0.5,1])\n",
    "plt.xlim([0,0.1])"
   ]
  },
  {
   "cell_type": "markdown",
   "metadata": {},
   "source": [
    "Now let us see what are the relation between the threshold and the TPR and FPR."
   ]
  },
  {
   "cell_type": "code",
   "execution_count": 22,
   "metadata": {},
   "outputs": [
    {
     "data": {
      "text/plain": [
       "Text(0.5, 0, 'Threshold')"
      ]
     },
     "execution_count": 22,
     "metadata": {},
     "output_type": "execute_result"
    },
    {
     "data": {
      "image/png": "[encoded data removed]",
      "text/plain": [
       "<Figure size 432x288 with 1 Axes>"
      ]
     },
     "metadata": {
      "needs_background": "light"
     },
     "output_type": "display_data"
    }
   ],
   "source": [
    "plt.plot(thresholds,tpr, thresholds,fpr)\n",
    "plt.legend(['TPR','FPR'])\n",
    "plt.xlabel('Threshold')"
   ]
  },
  {
   "cell_type": "markdown",
   "metadata": {},
   "source": [
    "The goodness of a classification method is often measured by the area under the curve (AUC), which is independent of the threshold. A method with a higher AUC means that under the same FPR, it has higher PPR. Note that in practice, you should evalute UAC in different cross validation folds and then evaluate the mean AUC."
   ]
  },
  {
   "cell_type": "code",
   "execution_count": 23,
   "metadata": {},
   "outputs": [
    {
     "name": "stdout",
     "output_type": "stream",
     "text": [
      "AUC=0.996371\n"
     ]
    }
   ],
   "source": [
    "auc=metrics.roc_auc_score(y_train,yprob[:,1])\n",
    "print(\"AUC=%f\" % auc)"
   ]
  },
  {
   "cell_type": "markdown",
   "metadata": {
    "collapsed": true
   },
   "source": [
    "## LASSO regularization\n",
    "As with linear regression, we can use LASSO regression to force the weighting coefficients to have small L1 norm, which will have the effect to reducing the number of non-zero coefficients. This is particularly important when there are many features and not enough training samples. the LogisticRegression method of sklearn allows one to add a regularization term (penalty), which could be either L2 or L1 norm. By setting the penalty to l1, you are effectively using LASSO regularization. The parameter C is inversely related to the regularization level. You can observe that as you reduces C, you will get fewer and fewer non-zero coefficients. To determine the appropriate C, we will use cross validation. Note that with the current example, we have sufficient number of samples for the number of features, so we do not expect to see the benefit of LASSO regression. First let us determine the C value leading to the minimum error rate (1-accuracy). We also count the number of non-zero coefficients."
   ]
  },
  {
   "cell_type": "code",
   "execution_count": 24,
   "metadata": {},
   "outputs": [
    {
     "name": "stdout",
     "output_type": "stream",
     "text": [
      "Fold 0\n",
      "Fold 1\n",
      "Fold 2\n",
      "Fold 3\n",
      "Fold 4\n",
      "Fold 5\n",
      "Fold 6\n",
      "Fold 7\n",
      "Fold 8\n",
      "Fold 9\n",
      "The minimum test error rate =   2.7338e-02, SE=  7.2695e-03\n",
      "The C value corresponding to minimum error =   2.6367e-02\n"
     ]
    },
    {
     "data": {
      "image/png": "[encoded data removed]",
      "text/plain": [
       "<Figure size 432x288 with 1 Axes>"
      ]
     },
     "metadata": {
      "needs_background": "light"
     },
     "output_type": "display_data"
    }
   ],
   "source": [
    "npen = 20\n",
    "C_test = np.logspace(-2,2,npen)\n",
    "\n",
    "X_unscaled = scaler.inverse_transform(X_train)\n",
    "# Create the cross-validation object and error rate matrix\n",
    "nfold = 10\n",
    "kf = KFold(n_splits=nfold,shuffle=True)\n",
    "err_rate = np.zeros((npen,nfold))\n",
    "num_nonzerocoef = np.zeros((npen,nfold))\n",
    "# Create the logistic regression object\n",
    "logreg = linear_model.LogisticRegression(solver='liblinear', penalty='l1',warm_start=True)\n",
    "\n",
    "# Loop over the folds in the cross-validation\n",
    "for ifold, Ind in enumerate(kf.split(X_unscaled)):        \n",
    "            \n",
    "    # Get training and test data\n",
    "    Itr, Its = Ind\n",
    "    Xtr = X_train[Itr,:]\n",
    "    ytr = y_train[Itr]\n",
    "    Xts = X_train[Its,:]\n",
    "    yts = y_train[Its]\n",
    "    \n",
    "    scaler_KFold = StandardScaler()\n",
    "    Xtr= scaler_KFold.fit_transform(Xtr)\n",
    "    Xts = scaler_KFold.transform(Xts)\n",
    "    \n",
    "    # Loop over penalty levels\n",
    "    for ipen, c in enumerate(C_test):\n",
    "        \n",
    "        # Set the penalty level        \n",
    "        logreg.C= c\n",
    "    \n",
    "        # Fit a model on the training data\n",
    "        logreg.fit(Xtr, ytr)\n",
    "    \n",
    "        # Predict the labels on the test set.\n",
    "        yhat = logreg.predict(Xts)\n",
    "        \n",
    "        # Measure the accuracy\n",
    "        err_rate[ipen,ifold] = np.mean(yhat != yts)\n",
    "        num_nonzerocoef[ipen,ifold]=np.sum(abs(logreg.coef_)>0.001)\n",
    "    print(\"Fold %d\" % ifold)\n",
    "    \n",
    "err_mean = np.mean(err_rate, axis=1)\n",
    "num_nonzerocoef_mean = np.mean(num_nonzerocoef, axis=1)\n",
    "err_se = np.std(err_rate,axis=1)/np.sqrt(nfold-1)\n",
    "plt.errorbar(np.log10(C_test), err_mean, marker='o',yerr=err_se)\n",
    "plt.ylim([0.02,0.05])\n",
    "plt.grid()\n",
    "plt.xlabel('log10(C)')\n",
    "plt.ylabel('Error rate')\n",
    "\n",
    "imin = np.argmin(err_mean)\n",
    "\n",
    "print(\"The minimum test error rate = %12.4e, SE=%12.4e\" % (err_mean[imin], err_se[imin]))\n",
    "print(\"The C value corresponding to minimum error = %12.4e\" % (C_test[imin]))\n",
    "\n"
   ]
  },
  {
   "cell_type": "markdown",
   "metadata": {},
   "source": [
    "Now let us find the optimal C using one standard error rule. Note that because C is inversely related to the regularization strength, we want to find the minimal C that satisfies the error criterion. We will also find the corresponding test accuracy with this optimal C, and compare with the test accuracy without regularization."
   ]
  },
  {
   "cell_type": "code",
   "execution_count": 25,
   "metadata": {},
   "outputs": [
    {
     "name": "stdout",
     "output_type": "stream",
     "text": [
      "Optimal C=  1.0000e-02\n",
      "The test error rate =   2.9299e-02, SE=  5.2623e-03\n",
      "Accuracy =  0.9707, SE=0.0053\n"
     ]
    }
   ],
   "source": [
    "err_tgt = err_mean[imin] + err_se[imin]\n",
    "iopt = np.where(err_mean < err_tgt)[0][0]\n",
    "C_opt = C_test[iopt]\n",
    "\n",
    "print(\"Optimal C=%12.4e\" % C_opt)\n",
    "print(\"The test error rate = %12.4e, SE=%12.4e\" % (err_mean[iopt], err_se[iopt]))\n",
    "\n",
    "print('Accuracy =  {0:.4f}, SE={1:.4f}'.format(1-err_mean[iopt], err_se[iopt]))"
   ]
  },
  {
   "cell_type": "markdown",
   "metadata": {},
   "source": [
    "Now plot the nubmer of non-zero coefficients for the first class for different C values. Also determine and print the number of non-zero coefficients corresponding to C_opt."
   ]
  },
  {
   "cell_type": "code",
   "execution_count": 26,
   "metadata": {},
   "outputs": [
    {
     "name": "stdout",
     "output_type": "stream",
     "text": [
      "The number of non-zero coefficients for the optimal C = 3.000000\n"
     ]
    },
    {
     "data": {
      "image/png": "[encoded data removed]",
      "text/plain": [
       "<Figure size 432x288 with 1 Axes>"
      ]
     },
     "metadata": {
      "needs_background": "light"
     },
     "output_type": "display_data"
    }
   ],
   "source": [
    "num_nonzerocoef_mean = np.mean(num_nonzerocoef, axis=1)\n",
    "plt.plot(np.log10(C_test),num_nonzerocoef_mean)\n",
    "\n",
    "plt.grid()\n",
    "plt.xlabel('log10(C)')\n",
    "plt.ylabel('Num of nonzero coeff.')\n",
    "\n",
    "print(\"The number of non-zero coefficients for the optimal C = %f\" % num_nonzerocoef_mean[iopt])"
   ]
  },
  {
   "cell_type": "markdown",
   "metadata": {},
   "source": [
    "For the optimal `C`, fit the model on the entire training data with l1 regularization. Find the resulting weight matrix, `W_l1`.  Plot the first row of this weight matrix and compare it to the first row of the weight matrix without the regularization.  You should see that, with l1-regularization, the weight matrix is much more sparse. Please also compare the accuracy for the training data using optimal `C` with the previous results not using LASSO regularization."
   ]
  },
  {
   "cell_type": "code",
   "execution_count": 27,
   "metadata": {},
   "outputs": [
    {
     "name": "stdout",
     "output_type": "stream",
     "text": [
      "The amount of regularization: 0.01\n",
      "Accuracy on the test data is 0.935673\n"
     ]
    },
    {
     "data": {
      "text/html": [
       "<div>\n",
       "<style scoped>\n",
       "    .dataframe tbody tr th:only-of-type {\n",
       "        vertical-align: middle;\n",
       "    }\n",
       "\n",
       "    .dataframe tbody tr th {\n",
       "        vertical-align: top;\n",
       "    }\n",
       "\n",
       "    .dataframe thead th {\n",
       "        text-align: right;\n",
       "    }\n",
       "</style>\n",
       "<table border=\"1\" class=\"dataframe\">\n",
       "  <thead>\n",
       "    <tr style=\"text-align: right;\">\n",
       "      <th></th>\n",
       "      <th>feature</th>\n",
       "      <th>slope</th>\n",
       "    </tr>\n",
       "  </thead>\n",
       "  <tbody>\n",
       "    <tr>\n",
       "      <th>0</th>\n",
       "      <td>thick</td>\n",
       "      <td>0.000000</td>\n",
       "    </tr>\n",
       "    <tr>\n",
       "      <th>1</th>\n",
       "      <td>size_unif</td>\n",
       "      <td>0.434886</td>\n",
       "    </tr>\n",
       "    <tr>\n",
       "      <th>2</th>\n",
       "      <td>shape_unif</td>\n",
       "      <td>0.192687</td>\n",
       "    </tr>\n",
       "    <tr>\n",
       "      <th>3</th>\n",
       "      <td>marg</td>\n",
       "      <td>0.000000</td>\n",
       "    </tr>\n",
       "    <tr>\n",
       "      <th>4</th>\n",
       "      <td>cell_size</td>\n",
       "      <td>0.000000</td>\n",
       "    </tr>\n",
       "    <tr>\n",
       "      <th>5</th>\n",
       "      <td>bare</td>\n",
       "      <td>0.484337</td>\n",
       "    </tr>\n",
       "    <tr>\n",
       "      <th>6</th>\n",
       "      <td>chrom</td>\n",
       "      <td>0.000000</td>\n",
       "    </tr>\n",
       "    <tr>\n",
       "      <th>7</th>\n",
       "      <td>normal</td>\n",
       "      <td>0.000000</td>\n",
       "    </tr>\n",
       "    <tr>\n",
       "      <th>8</th>\n",
       "      <td>mit</td>\n",
       "      <td>0.000000</td>\n",
       "    </tr>\n",
       "  </tbody>\n",
       "</table>\n",
       "</div>"
      ],
      "text/plain": [
       "      feature     slope\n",
       "0       thick  0.000000\n",
       "1   size_unif  0.434886\n",
       "2  shape_unif  0.192687\n",
       "3        marg  0.000000\n",
       "4   cell_size  0.000000\n",
       "5        bare  0.484337\n",
       "6       chrom  0.000000\n",
       "7      normal  0.000000\n",
       "8         mit  0.000000"
      ]
     },
     "execution_count": 27,
     "metadata": {},
     "output_type": "execute_result"
    }
   ],
   "source": [
    "logreg = linear_model.LogisticRegression(solver='liblinear',C=C_opt, penalty='l1')\n",
    "print(\"The amount of regularization:\",logreg.C)\n",
    "\n",
    "logreg.fit(X_train,y_train)\n",
    "yhat = logreg.predict(X_test)\n",
    "acc = np.mean(yhat == y_test)\n",
    "print('Accuracy on the test data is {0:f}'.format(acc))\n",
    "W_l1 = logreg.coef_\n",
    "\n",
    "data = {'feature': xnames, 'slope': np.squeeze(W_l1)}\n",
    "dfslope = pd.DataFrame(data=data)\n",
    "dfslope"
   ]
  },
  {
   "cell_type": "markdown",
   "metadata": {},
   "source": [
    " Note that actual results vary each time you run, because the optimal C depends on the cross validation split, which is random. When the number of samples is small relative to the number of features, more and consistant gain is expected.\n",
    " \n",
    " You can also use Sklearn's method to find the optimal amount of regularization"
   ]
  },
  {
   "cell_type": "code",
   "execution_count": 28,
   "metadata": {},
   "outputs": [
    {
     "name": "stdout",
     "output_type": "stream",
     "text": [
      "The regularization parameter: 0.02\n",
      "Accuracy on the test data is 0.941520\n"
     ]
    },
    {
     "data": {
      "text/html": [
       "<div>\n",
       "<style scoped>\n",
       "    .dataframe tbody tr th:only-of-type {\n",
       "        vertical-align: middle;\n",
       "    }\n",
       "\n",
       "    .dataframe tbody tr th {\n",
       "        vertical-align: top;\n",
       "    }\n",
       "\n",
       "    .dataframe thead th {\n",
       "        text-align: right;\n",
       "    }\n",
       "</style>\n",
       "<table border=\"1\" class=\"dataframe\">\n",
       "  <thead>\n",
       "    <tr style=\"text-align: right;\">\n",
       "      <th></th>\n",
       "      <th>feature</th>\n",
       "      <th>slope</th>\n",
       "    </tr>\n",
       "  </thead>\n",
       "  <tbody>\n",
       "    <tr>\n",
       "      <th>0</th>\n",
       "      <td>thick</td>\n",
       "      <td>0.056292</td>\n",
       "    </tr>\n",
       "    <tr>\n",
       "      <th>1</th>\n",
       "      <td>size_unif</td>\n",
       "      <td>0.676905</td>\n",
       "    </tr>\n",
       "    <tr>\n",
       "      <th>2</th>\n",
       "      <td>shape_unif</td>\n",
       "      <td>0.329667</td>\n",
       "    </tr>\n",
       "    <tr>\n",
       "      <th>3</th>\n",
       "      <td>marg</td>\n",
       "      <td>0.000000</td>\n",
       "    </tr>\n",
       "    <tr>\n",
       "      <th>4</th>\n",
       "      <td>cell_size</td>\n",
       "      <td>0.000000</td>\n",
       "    </tr>\n",
       "    <tr>\n",
       "      <th>5</th>\n",
       "      <td>bare</td>\n",
       "      <td>0.822093</td>\n",
       "    </tr>\n",
       "    <tr>\n",
       "      <th>6</th>\n",
       "      <td>chrom</td>\n",
       "      <td>0.075406</td>\n",
       "    </tr>\n",
       "    <tr>\n",
       "      <th>7</th>\n",
       "      <td>normal</td>\n",
       "      <td>0.178737</td>\n",
       "    </tr>\n",
       "    <tr>\n",
       "      <th>8</th>\n",
       "      <td>mit</td>\n",
       "      <td>0.000000</td>\n",
       "    </tr>\n",
       "  </tbody>\n",
       "</table>\n",
       "</div>"
      ],
      "text/plain": [
       "      feature     slope\n",
       "0       thick  0.056292\n",
       "1   size_unif  0.676905\n",
       "2  shape_unif  0.329667\n",
       "3        marg  0.000000\n",
       "4   cell_size  0.000000\n",
       "5        bare  0.822093\n",
       "6       chrom  0.075406\n",
       "7      normal  0.178737\n",
       "8         mit  0.000000"
      ]
     },
     "execution_count": 28,
     "metadata": {},
     "output_type": "execute_result"
    }
   ],
   "source": [
    "logreg_lasso = linear_model.LogisticRegression(solver='liblinear', C=0.02, penalty='l1')\n",
    "logreg_lasso.fit(X_train,y_train)\n",
    "yhat = logreg_lasso.predict(X_test)\n",
    "acc = np.mean(yhat == y_test)\n",
    "\n",
    "print(\"The regularization parameter:\", logreg_lasso.C)\n",
    "print('Accuracy on the test data is {0:f}'.format(acc))\n",
    "W_l1 = logreg_lasso.coef_\n",
    "\n",
    "\n",
    "data = {'feature': xnames, 'slope': np.squeeze(W_l1)}\n",
    "dfslope = pd.DataFrame(data=data)\n",
    "dfslope"
   ]
  },
  {
   "cell_type": "markdown",
   "metadata": {},
   "source": [
    "Comparing the different models"
   ]
  },
  {
   "cell_type": "code",
   "execution_count": 29,
   "metadata": {
    "scrolled": true
   },
   "outputs": [
    {
     "data": {
      "text/plain": [
       "Text(0.5, 1.0, 'l1-regularization')"
      ]
     },
     "execution_count": 29,
     "metadata": {},
     "output_type": "execute_result"
    },
    {
     "data": {
      "image/png": "[encoded data removed]",
      "text/plain": [
       "<Figure size 504x504 with 2 Axes>"
      ]
     },
     "metadata": {
      "needs_background": "light"
     },
     "output_type": "display_data"
    }
   ],
   "source": [
    "\n",
    "plt.figure(figsize=(7,7))\n",
    "plt.subplot(2,1,1)\n",
    "plt.stem(W[0,:])#\n",
    "plt.title('No regularization')\n",
    "plt.subplot(2,1,2)\n",
    "plt.stem(W_l1[0,:])\n",
    "plt.title('l1-regularization')\n",
    "\n"
   ]
  },
  {
   "cell_type": "code",
   "execution_count": 30,
   "metadata": {},
   "outputs": [
    {
     "name": "stdout",
     "output_type": "stream",
     "text": [
      "The regularization parameter: 1\n",
      "Accuracy on the test data is 0.947368\n"
     ]
    },
    {
     "data": {
      "text/html": [
       "<div>\n",
       "<style scoped>\n",
       "    .dataframe tbody tr th:only-of-type {\n",
       "        vertical-align: middle;\n",
       "    }\n",
       "\n",
       "    .dataframe tbody tr th {\n",
       "        vertical-align: top;\n",
       "    }\n",
       "\n",
       "    .dataframe thead th {\n",
       "        text-align: right;\n",
       "    }\n",
       "</style>\n",
       "<table border=\"1\" class=\"dataframe\">\n",
       "  <thead>\n",
       "    <tr style=\"text-align: right;\">\n",
       "      <th></th>\n",
       "      <th>feature</th>\n",
       "      <th>slope</th>\n",
       "    </tr>\n",
       "  </thead>\n",
       "  <tbody>\n",
       "    <tr>\n",
       "      <th>0</th>\n",
       "      <td>thick</td>\n",
       "      <td>0.968363</td>\n",
       "    </tr>\n",
       "    <tr>\n",
       "      <th>1</th>\n",
       "      <td>size_unif</td>\n",
       "      <td>0.440666</td>\n",
       "    </tr>\n",
       "    <tr>\n",
       "      <th>2</th>\n",
       "      <td>shape_unif</td>\n",
       "      <td>0.747149</td>\n",
       "    </tr>\n",
       "    <tr>\n",
       "      <th>3</th>\n",
       "      <td>marg</td>\n",
       "      <td>0.555386</td>\n",
       "    </tr>\n",
       "    <tr>\n",
       "      <th>4</th>\n",
       "      <td>cell_size</td>\n",
       "      <td>0.546785</td>\n",
       "    </tr>\n",
       "    <tr>\n",
       "      <th>5</th>\n",
       "      <td>bare</td>\n",
       "      <td>1.423173</td>\n",
       "    </tr>\n",
       "    <tr>\n",
       "      <th>6</th>\n",
       "      <td>chrom</td>\n",
       "      <td>0.752109</td>\n",
       "    </tr>\n",
       "    <tr>\n",
       "      <th>7</th>\n",
       "      <td>normal</td>\n",
       "      <td>0.683307</td>\n",
       "    </tr>\n",
       "    <tr>\n",
       "      <th>8</th>\n",
       "      <td>mit</td>\n",
       "      <td>0.361392</td>\n",
       "    </tr>\n",
       "  </tbody>\n",
       "</table>\n",
       "</div>"
      ],
      "text/plain": [
       "      feature     slope\n",
       "0       thick  0.968363\n",
       "1   size_unif  0.440666\n",
       "2  shape_unif  0.747149\n",
       "3        marg  0.555386\n",
       "4   cell_size  0.546785\n",
       "5        bare  1.423173\n",
       "6       chrom  0.752109\n",
       "7      normal  0.683307\n",
       "8         mit  0.361392"
      ]
     },
     "execution_count": 30,
     "metadata": {},
     "output_type": "execute_result"
    }
   ],
   "source": [
    "logreg_ridge = linear_model.LogisticRegression(solver='liblinear', C=1, penalty='l2')\n",
    "logreg_ridge.fit(X_train,y_train)\n",
    "yhat = logreg_ridge.predict(X_test)\n",
    "acc = np.mean(yhat == y_test)\n",
    "\n",
    "print(\"The regularization parameter:\", logreg_ridge.C)\n",
    "print('Accuracy on the test data is {0:f}'.format(acc))\n",
    "W_l1 = logreg_ridge.coef_\n",
    "\n",
    "\n",
    "data = {'feature': xnames, 'slope': np.squeeze(W_l1)}\n",
    "dfslope = pd.DataFrame(data=data)\n",
    "dfslope"
   ]
  },
  {
   "cell_type": "code",
   "execution_count": null,
   "metadata": {},
   "outputs": [],
   "source": []
  }
 ],
 "metadata": {
  "anaconda-cloud": {},
  "kernelspec": {
   "display_name": "Python 3",
   "language": "python",
   "name": "python3"
  },
  "language_info": {
   "codemirror_mode": {
    "name": "ipython",
    "version": 3
   },
   "file_extension": ".py",
   "mimetype": "text/x-python",
   "name": "python",
   "nbconvert_exporter": "python",
   "pygments_lexer": "ipython3",
   "version": "3.7.7"
  }
 },
 "nbformat": 4,
 "nbformat_minor": 1
}
