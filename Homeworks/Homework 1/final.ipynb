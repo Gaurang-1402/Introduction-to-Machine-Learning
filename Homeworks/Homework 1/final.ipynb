{
 "cells": [
  {
   "cell_type": "code",
   "execution_count": null,
   "metadata": {},
   "outputs": [],
   "source": []
  },
  {
   "cell_type": "code",
   "execution_count": null,
   "metadata": {},
   "outputs": [],
   "source": [
    "import matplotlib.pyplot as plt\n",
    "import numpy as np\n",
    "\n",
    "def step(w0: float, w1: float, alpha: float):\n",
    "    '''\n",
    "    Gradient descent step; you probably wanna return new w0, w1\n",
    "    '''\n",
    "    pass\n",
    "\n",
    "\n",
    "def main():\n",
    "    # your global subplot\n",
    "    _, subplot = plt.subplots()\n",
    "    \n",
    "    X = np.array([[1, 2], [1, 3]])\n",
    "\n",
    "    # our shape of X_1 = (2, 2)\n",
    "\n",
    "    # print(X_1)\n",
    "\n",
    "    y = np.array([[4], [3]])\n",
    "    # our shape of y_2d = (2, 1)\n",
    "    # Metadata\n",
    "    \n",
    "    w_0, w_1 = 0, 0\n",
    "    \n",
    "    plt.title(\"Learning rates\")\n",
    "    plt.xlabel(\"w0\")\n",
    "    plt.ylabel(\"w1\")\n",
    "    \n",
    "    N = 2\n",
    "    num_iters = 10\n",
    "\n",
    "    for alpha in [0.06, 0.001, 0.03]:\n",
    "        # Make container for w0's and w1's\n",
    "\n",
    "        for i in range(num_iters):\n",
    "            # Step through gradient descent\n",
    "            # Calculate f\n",
    "            # Collect w0, w1 in containers\n",
    "            \n",
    "            temp_0 = w_0 - alpha * (1/N) * (w_0 * X[0][0] + w_1 * X[0][1] - y[0][0]) * X[0][0] - alpha * (1/N) * (w_0 * X[1][0] + w_1 * X[1][1] - y[1][0]) * X[1][0]\n",
    "            temp_1 = w_1 - alpha * (1/N) * (w_0 * X[0][0] + w_1 * X[0][1] - y[0][0]) * X[0][1] - alpha * (1/N) * (w_0 * X[1][0] + w_1 * X[1][1] - y[1][0]) * X[1][1]\n",
    "            \n",
    "            w_0 = temp_0\n",
    "            w_1 = temp_1\n",
    "             \n",
    "            cost = 1/(2 * N) * (w_0 * X[0][0] + w_1 * X[0][1] - y[0][0])**2 + 1/(2 * N) * (w_0 * X[1][0] + w_1 * X[1][1] - y[1][0])**2\n",
    "            # Probably print all three values to submit to gradescope            \n",
    "        \n",
    "        # Plot current descent\n",
    "        subplot.scatter(w_0, w_1, label=alpha) # replace x, y with continers\n",
    "    \n",
    "    # Generate legend and show graph\n",
    "    subplot.legend()\n",
    "    plt.show()\n",
    "\n",
    "main()"
   ]
  },
  {
   "cell_type": "code",
   "execution_count": null,
   "metadata": {},
   "outputs": [],
   "source": []
  }
 ],
 "metadata": {
  "kernelspec": {
   "display_name": "intro_to_ml_class",
   "language": "python",
   "name": "python3"
  },
  "language_info": {
   "name": "python",
   "version": "3.8.8"
  },
  "orig_nbformat": 4,
  "vscode": {
   "interpreter": {
    "hash": "f6bfb5afe727b117337d9ffbdaca644bbb3eb5a4509399f1a3223d690d930c81"
   }
  }
 },
 "nbformat": 4,
 "nbformat_minor": 2
}
