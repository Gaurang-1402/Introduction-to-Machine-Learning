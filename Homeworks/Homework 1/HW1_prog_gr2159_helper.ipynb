{
 "cells": [
  {
   "attachments": {},
   "cell_type": "markdown",
   "metadata": {},
   "source": [
    "## RSS calculation"
   ]
  },
  {
   "cell_type": "code",
   "execution_count": 3,
   "metadata": {},
   "outputs": [
    {
     "name": "stdout",
     "output_type": "stream",
     "text": [
      "0.25\n"
     ]
    }
   ],
   "source": [
    "# vals = [((0, 0), 1) ,((0, 1), 4), ((1, 0), 3),((1, 1), 7)]\n",
    "\n",
    "# weights = [0.75, 2.5, 3.5]\n",
    "\n",
    "# rss_tracker = 0\n",
    "\n",
    "# for (x1, x2), y in vals:\n",
    "#     rss_tracker += (y - (weights[0] + weights[1] * x1 + weights[2] * x2)) ** 2\n",
    "\n",
    "# print(rss_tracker)    "
   ]
  },
  {
   "cell_type": "code",
   "execution_count": 1,
   "metadata": {},
   "outputs": [],
   "source": [
    "# run this code cell using shift+enter before moving further.   You will be writing the algorithm from scratch, but these standard packages will make your work cleaner and faster. \n",
    "\n",
    "import numpy as np # library which more efficiently allows you to work with large multidimensional arrays and matrices.  It has functions that operate on the arrays/matrices\n",
    "import pandas as pd # built on numpy.  Makes it easier to read in data and clean data among other things\n",
    "\n",
    "from sklearn.datasets import fetch_california_housing # We will be using one of SKlearn's datasets\n",
    "\n",
    "from sklearn.preprocessing import StandardScaler # Scaling is suggested when running a gradient descent algorithm\n",
    "\n",
    "import matplotlib # a plotting library\n",
    "from matplotlib import pyplot as plt\n",
    "%matplotlib inline"
   ]
  },
  {
   "cell_type": "code",
   "execution_count": 2,
   "metadata": {},
   "outputs": [],
   "source": [
    "\n",
    "def compute_cost(X_1, y, w, N):\n",
    "    # Write your code in place of ellipsis. Cost can be calculated using a single line of code.\n",
    "    # Remember w is a vector here.\n",
    "    print(X_1.shape)\n",
    "    print(y.shape)\n",
    "    print(w.shape)\n",
    "    #     (2, 4)\n",
    "    # (4, 1)\n",
    "    # (4, 1)\n",
    "    cost= 1/(2 * N) * np.sum((np.dot(X_1, w) - y) ** 2)\n",
    "    return cost"
   ]
  },
  {
   "cell_type": "code",
   "execution_count": 3,
   "metadata": {},
   "outputs": [],
   "source": [
    "\n",
    "def gradient_descent(X_1 , y, learning_rate, w, n, num_iters):\n",
    "    # In place of ellipsis, write the updated value of w0 in temp0 and of w1 in temp1\n",
    "    # Finish the gradient descent function\n",
    "    \n",
    "    history = []\n",
    "    for i in range(num_iters):\n",
    "        # derivative vector is given by : X_train.Transpose *  (( X_train * w)- y ) \n",
    "        # You may add your own variables\n",
    "        temp = w - (learning_rate / n) * np.dot(X_1.T, (np.dot(X_1, w) - y))\n",
    "\n",
    "        if(i%100==0):\n",
    "            # In place of ellipsis, call the cost you just coded above            \n",
    "            cost = compute_cost(X_1, y, w, n)\n",
    "\n",
    "            # ! You can uncomment print statements below to see how cost changes, \n",
    "            # ! but please make sure you put prints in comments before submission\n",
    "            # print(\"Cost\")\n",
    "            # print(cost)\n",
    "        w = temp\n",
    "        \n",
    "        print(f\"On iteration {i+1}, w0 and w1 are: {w}\")\n",
    "        print(\"\\n\")\n",
    "        \n",
    "        history.append(w)\n",
    "        \n",
    "    w0_values = [h[0] for h in history]\n",
    "    w1_values = [h[1] for h in history]\n",
    "    plt.scatter(w0_values, w1_values)\n",
    "\n",
    "    # Add labels and title\n",
    "    plt.xlabel('w0')\n",
    "    plt.ylabel('w1')\n",
    "    plt.title(f'Gradient Descent Path for alpha = {learning_rate}')\n",
    "        \n",
    "            \n",
    "    return w"
   ]
  },
  {
   "cell_type": "code",
   "execution_count": 4,
   "metadata": {},
   "outputs": [],
   "source": [
    "\n",
    "# Complete the function\n",
    "def multiple_linear_reg_model_gda(X_1 , y, n , learning_rate , num_iters):\n",
    "\n",
    "    #initialize the values of parameter vector w. It should be a column vector of zeros of dimension(d+1,1)\n",
    "    w = np.zeros((n, 1)) # * n features\n",
    "\n",
    "    #calculate the initial cost by calling the function you coded above.\n",
    "    initial_cost= compute_cost(X_1, y, w, n)\n",
    "    print(\"Initial Cost\")\n",
    "    print(initial_cost)\n",
    "\n",
    "    #calculate the optimized value of gradients by calling the gradient_descent function coded above \n",
    "    w = gradient_descent(X_1 , y, learning_rate, w, n, num_iters)\n",
    "    \n",
    "    # Calculate the cost with the optimized value of w0 and w1 by calling the cost function.    \n",
    "    final_cost = compute_cost(X_1, y, w, n)\n",
    "    print(\"Final Cost\")\n",
    "    print(final_cost)\n",
    "    \n",
    "    return w, initial_cost, final_cost"
   ]
  },
  {
   "cell_type": "code",
   "execution_count": 5,
   "metadata": {},
   "outputs": [],
   "source": [
    "\n",
    "def predict(x, w_opt):\n",
    "    x_aug = np.append(x, 1)\n",
    "    # print(x_aug)\n",
    "    \n",
    "    predicted_y = np.dot(x_aug, w_opt)\n",
    "    \n",
    "    return predicted_y\n"
   ]
  },
  {
   "cell_type": "code",
   "execution_count": 6,
   "metadata": {},
   "outputs": [],
   "source": [
    "# Write the code below\n",
    "def get_stats(X_1, y_2d, w_vec):\n",
    "    y_tr_pred = np.dot(X_1, w_vec)\n",
    "    RSS = np.sum((y_tr_pred - y_2d) ** 2)\n",
    "    TSS = np.sum((y_2d - np.mean(y_2d)) ** 2)\n",
    "    R2 = 1 - RSS / TSS\n",
    "    print(\"RSS = {0:f}\".format(RSS))\n",
    "    print(\"TSS = {0:f}\".format(TSS))\n",
    "    print(\"R^2 = {0:f}\".format(R2))"
   ]
  },
  {
   "attachments": {},
   "cell_type": "markdown",
   "metadata": {},
   "source": [
    "### Q5"
   ]
  },
  {
   "cell_type": "code",
   "execution_count": 12,
   "metadata": {},
   "outputs": [
    {
     "name": "stdout",
     "output_type": "stream",
     "text": [
      "(2, 4)\n",
      "(4, 1)\n",
      "(4, 1)\n"
     ]
    },
    {
     "ename": "ValueError",
     "evalue": "operands could not be broadcast together with shapes (2,1) (4,1) ",
     "output_type": "error",
     "traceback": [
      "\u001b[1;31m---------------------------------------------------------------------------\u001b[0m",
      "\u001b[1;31mValueError\u001b[0m                                Traceback (most recent call last)",
      "Cell \u001b[1;32mIn[12], line 16\u001b[0m\n\u001b[0;32m     14\u001b[0m num_iters \u001b[39m=\u001b[39m \u001b[39m10\u001b[39m\n\u001b[0;32m     15\u001b[0m learning_rate \u001b[39m=\u001b[39m \u001b[39m0.06\u001b[39m\n\u001b[1;32m---> 16\u001b[0m results \u001b[39m=\u001b[39m multiple_linear_reg_model_gda(X_1, y_2d, N, learning_rate, num_iters)\n\u001b[0;32m     18\u001b[0m w \u001b[39m=\u001b[39m results[\u001b[39m0\u001b[39m]\n\u001b[0;32m     20\u001b[0m \u001b[39mprint\u001b[39m(\u001b[39mf\u001b[39m\u001b[39m\"\u001b[39m\u001b[39mQ5\u001b[39m\u001b[39m\"\u001b[39m)\n",
      "Cell \u001b[1;32mIn[4], line 8\u001b[0m, in \u001b[0;36mmultiple_linear_reg_model_gda\u001b[1;34m(X_1, y, n, learning_rate, num_iters)\u001b[0m\n\u001b[0;32m      5\u001b[0m w \u001b[39m=\u001b[39m np\u001b[39m.\u001b[39mzeros((n, \u001b[39m1\u001b[39m)) \u001b[39m# * n features\u001b[39;00m\n\u001b[0;32m      7\u001b[0m \u001b[39m#calculate the initial cost by calling the function you coded above.\u001b[39;00m\n\u001b[1;32m----> 8\u001b[0m initial_cost\u001b[39m=\u001b[39m compute_cost(X_1, y, w, n)\n\u001b[0;32m      9\u001b[0m \u001b[39mprint\u001b[39m(\u001b[39m\"\u001b[39m\u001b[39mInitial Cost\u001b[39m\u001b[39m\"\u001b[39m)\n\u001b[0;32m     10\u001b[0m \u001b[39mprint\u001b[39m(initial_cost)\n",
      "Cell \u001b[1;32mIn[2], line 10\u001b[0m, in \u001b[0;36mcompute_cost\u001b[1;34m(X_1, y, w, N)\u001b[0m\n\u001b[0;32m      6\u001b[0m \u001b[39mprint\u001b[39m(w\u001b[39m.\u001b[39mshape)\n\u001b[0;32m      7\u001b[0m \u001b[39m#     (2, 4)\u001b[39;00m\n\u001b[0;32m      8\u001b[0m \u001b[39m# (4, 1)\u001b[39;00m\n\u001b[0;32m      9\u001b[0m \u001b[39m# (4, 1)\u001b[39;00m\n\u001b[1;32m---> 10\u001b[0m cost\u001b[39m=\u001b[39m \u001b[39m1\u001b[39m\u001b[39m/\u001b[39m(\u001b[39m2\u001b[39m \u001b[39m*\u001b[39m N) \u001b[39m*\u001b[39m np\u001b[39m.\u001b[39msum((np\u001b[39m.\u001b[39;49mdot(X_1, w) \u001b[39m-\u001b[39;49m y) \u001b[39m*\u001b[39m\u001b[39m*\u001b[39m \u001b[39m2\u001b[39m)\n\u001b[0;32m     11\u001b[0m \u001b[39mreturn\u001b[39;00m cost\n",
      "\u001b[1;31mValueError\u001b[0m: operands could not be broadcast together with shapes (2,1) (4,1) "
     ]
    }
   ],
   "source": [
    "# make a 4, 2 array with features (0, 0), (0, 1), (1, 0), (1, 1)\n",
    "X_1 = np.array([[0, 0], [0, 1], [1, 0], [1, 1]])\n",
    "X_1 = X_1.T\n",
    "# our shape of X_1 = (2, 4)\n",
    "\n",
    "# print(X_1)\n",
    "\n",
    "y_2d = np.array([[1], [4], [3], [7]])\n",
    "# our shape of y_2d = (4, 1)\n",
    "\n",
    "\n",
    "# print(y_2d)\n",
    "N = 4\n",
    "num_iters = 10\n",
    "learning_rate = 0.06\n",
    "results = multiple_linear_reg_model_gda(X_1, y_2d, N, learning_rate, num_iters)\n",
    "\n",
    "w = results[0]\n",
    "\n",
    "print(f\"Q5\")\n",
    "print(\"w: \", w, \"\\ninitial cost: \", results[1], \"\\nfinal cost: \", results[2])\n"
   ]
  },
  {
   "attachments": {},
   "cell_type": "markdown",
   "metadata": {},
   "source": [
    "### Q6"
   ]
  },
  {
   "cell_type": "code",
   "execution_count": 11,
   "metadata": {},
   "outputs": [
    {
     "name": "stdout",
     "output_type": "stream",
     "text": [
      "(2, 1)\n"
     ]
    }
   ],
   "source": [
    "# make a 2, 2 array with features (1, 2) and (1, 3)\n",
    "X_1 = np.array([[1, 2], [1, 3]])\n",
    "\n",
    "# our shape of X_1 = (2, 2)\n",
    "\n",
    "# print(X_1)\n",
    "\n",
    "y_2d = np.array([[4], [3]])\n",
    "# our shape of y_2d = (2, 1)\n",
    "\n",
    "\n",
    "# print(y_2d)\n",
    "N = 2\n",
    "num_iters = 10\n"
   ]
  },
  {
   "cell_type": "code",
   "execution_count": 8,
   "metadata": {},
   "outputs": [
    {
     "name": "stdout",
     "output_type": "stream",
     "text": [
      "=========================================\n",
      "(2, 2)\n",
      "(2, 1)\n",
      "(2, 1)\n",
      "Initial Cost\n",
      "6.25\n",
      "(2, 2)\n",
      "(2, 1)\n",
      "(2, 1)\n",
      "On iteration 1, w0 and w1 are: [[0.21]\n",
      " [0.51]]\n",
      "\n",
      "\n",
      "On iteration 2, w0 and w1 are: [[0.3309]\n",
      " [0.7896]]\n",
      "\n",
      "\n",
      "On iteration 3, w0 and w1 are: [[0.402606]\n",
      " [0.942021]]\n",
      "\n",
      "\n",
      "On iteration 4, w0 and w1 are: [[0.44714649]\n",
      " [1.02424191]]\n",
      "\n",
      "\n",
      "On iteration 5, w0 and w1 are: [[0.47668141]\n",
      " [1.06771559]]\n",
      "\n",
      "\n",
      "On iteration 6, w0 and w1 are: [[0.49792319]\n",
      " [1.0898043 ]]\n",
      "\n",
      "\n",
      "On iteration 7, w0 and w1 are: [[0.51457715]\n",
      " [1.10009214]]\n",
      "\n",
      "\n",
      "On iteration 8, w0 and w1 are: [[0.5286887 ]\n",
      " [1.10386963]]\n",
      "\n",
      "\n",
      "On iteration 9, w0 and w1 are: [[0.54138694]\n",
      " [1.10405717]]\n",
      "\n",
      "\n",
      "On iteration 10, w0 and w1 are: [[0.55329514]\n",
      " [1.10226683]]\n",
      "\n",
      "\n",
      "(2, 2)\n",
      "(2, 1)\n",
      "(2, 1)\n",
      "Final Cost\n",
      "0.5706884451160339\n",
      "alpha = 0.06\n",
      "w:  [[0.55329514]\n",
      " [1.10226683]] \n",
      "initial cost:  6.25 \n",
      "final cost:  0.5706884451160339\n",
      "=========================================\n"
     ]
    },
    {
     "data": {
      "image/png": "[encoded data removed]",
      "text/plain": [
       "<Figure size 640x480 with 1 Axes>"
      ]
     },
     "metadata": {},
     "output_type": "display_data"
    }
   ],
   "source": [
    "# * 1)\n",
    "# Call the multiple_linear_reg_model_gda.\n",
    "\n",
    "print(\"=========================================\")\n",
    "\n",
    "learning_rate = 0.06\n",
    "results = multiple_linear_reg_model_gda(X_1, y_2d, N, learning_rate, num_iters)\n",
    "\n",
    "w = results[0]\n",
    "\n",
    "print(f\"alpha = {learning_rate}\")\n",
    "print(\"w: \", w, \"\\ninitial cost: \", results[1], \"\\nfinal cost: \", results[2])\n",
    "\n",
    "print(\"=========================================\")\n",
    "\n"
   ]
  },
  {
   "cell_type": "code",
   "execution_count": 9,
   "metadata": {},
   "outputs": [
    {
     "name": "stdout",
     "output_type": "stream",
     "text": [
      "=========================================\n",
      "(2, 2)\n",
      "(2, 1)\n",
      "(2, 1)\n",
      "Initial Cost\n",
      "6.25\n",
      "(2, 2)\n",
      "(2, 1)\n",
      "(2, 1)\n",
      "On iteration 1, w0 and w1 are: [[0.0035]\n",
      " [0.0085]]\n",
      "\n",
      "\n",
      "On iteration 2, w0 and w1 are: [[0.00697525]\n",
      " [0.016936  ]]\n",
      "\n",
      "\n",
      "On iteration 3, w0 and w1 are: [[0.01042593]\n",
      " [0.02530848]]\n",
      "\n",
      "\n",
      "On iteration 4, w0 and w1 are: [[0.01385224]\n",
      " [0.03361791]]\n",
      "\n",
      "\n",
      "On iteration 5, w0 and w1 are: [[0.01725434]\n",
      " [0.04186476]]\n",
      "\n",
      "\n",
      "On iteration 6, w0 and w1 are: [[0.02063242]\n",
      " [0.0500495 ]]\n",
      "\n",
      "\n",
      "On iteration 7, w0 and w1 are: [[0.02398667]\n",
      " [0.0581726 ]]\n",
      "\n",
      "\n",
      "On iteration 8, w0 and w1 are: [[0.02731725]\n",
      " [0.06623451]]\n",
      "\n",
      "\n",
      "On iteration 9, w0 and w1 are: [[0.03062435]\n",
      " [0.0742357 ]]\n",
      "\n",
      "\n",
      "On iteration 10, w0 and w1 are: [[0.03390813]\n",
      " [0.0821766 ]]\n",
      "\n",
      "\n",
      "(2, 2)\n",
      "(2, 1)\n",
      "(2, 1)\n",
      "Final Cost\n",
      "5.462308663693527\n",
      "alpha = 0.001\n",
      "w:  [[0.03390813]\n",
      " [0.0821766 ]] \n",
      "initial cost:  6.25 \n",
      "final cost:  5.462308663693527\n",
      "=========================================\n"
     ]
    },
    {
     "data": {
      "image/png": "[encoded data removed]",
      "text/plain": [
       "<Figure size 640x480 with 1 Axes>"
      ]
     },
     "metadata": {},
     "output_type": "display_data"
    }
   ],
   "source": [
    "# * 2)\n",
    "# Call the multiple_linear_reg_model_gda.\n",
    "\n",
    "print(\"=========================================\")\n",
    "\n",
    "learning_rate = 0.001\n",
    "results = multiple_linear_reg_model_gda(X_1, y_2d, N, learning_rate, num_iters)\n",
    "\n",
    "w = results[0]\n",
    "\n",
    "print(f\"alpha = {learning_rate}\")\n",
    "print(\"w: \", w, \"\\ninitial cost: \", results[1], \"\\nfinal cost: \", results[2])\n",
    "\n",
    "print(\"=========================================\")"
   ]
  },
  {
   "cell_type": "code",
   "execution_count": 10,
   "metadata": {},
   "outputs": [
    {
     "name": "stdout",
     "output_type": "stream",
     "text": [
      "=========================================\n",
      "(2, 2)\n",
      "(2, 1)\n",
      "(2, 1)\n",
      "Initial Cost\n",
      "6.25\n",
      "(2, 2)\n",
      "(2, 1)\n",
      "(2, 1)\n",
      "On iteration 1, w0 and w1 are: [[0.105]\n",
      " [0.255]]\n",
      "\n",
      "\n",
      "On iteration 2, w0 and w1 are: [[0.187725]\n",
      " [0.4524  ]]\n",
      "\n",
      "\n",
      "On iteration 3, w0 and w1 are: [[0.25316325]\n",
      " [0.60510263]]\n",
      "\n",
      "\n",
      "On iteration 4, w0 and w1 are: [[0.30518566]\n",
      " [0.72312037]]\n",
      "\n",
      "\n",
      "On iteration 5, w0 and w1 are: [[0.34679606]\n",
      " [0.81422297]]\n",
      "\n",
      "\n",
      "On iteration 6, w0 and w1 are: [[0.38032545]\n",
      " [0.88443979]]\n",
      "\n",
      "\n",
      "On iteration 7, w0 and w1 are: [[0.40758271]\n",
      " [0.93844962]]\n",
      "\n",
      "\n",
      "On iteration 8, w0 and w1 are: [[0.4299715 ]\n",
      " [0.97988324]]\n",
      "\n",
      "\n",
      "On iteration 9, w0 and w1 are: [[0.44858111]\n",
      " [1.01155815]]\n",
      "\n",
      "\n",
      "On iteration 10, w0 and w1 are: [[0.46425682]\n",
      " [1.03566072]]\n",
      "\n",
      "\n",
      "(2, 2)\n",
      "(2, 1)\n",
      "(2, 1)\n",
      "Final Cost\n",
      "0.6177112481455014\n",
      "alpha = 0.03\n",
      "w:  [[0.46425682]\n",
      " [1.03566072]] \n",
      "initial cost:  6.25 \n",
      "final cost:  0.6177112481455014\n",
      "=========================================\n"
     ]
    },
    {
     "data": {
      "image/png": "[encoded data removed]",
      "text/plain": [
       "<Figure size 640x480 with 1 Axes>"
      ]
     },
     "metadata": {},
     "output_type": "display_data"
    }
   ],
   "source": [
    "# * 3)\n",
    "# Call the multiple_linear_reg_model_gda.\n",
    "\n",
    "print(\"=========================================\")\n",
    "\n",
    "learning_rate = 0.03\n",
    "results = multiple_linear_reg_model_gda(X_1, y_2d, N, learning_rate, num_iters)\n",
    "\n",
    "w = results[0]\n",
    "\n",
    "print(f\"alpha = {learning_rate}\")\n",
    "print(\"w: \", w, \"\\ninitial cost: \", results[1], \"\\nfinal cost: \", results[2])\n",
    "\n",
    "print(\"=========================================\")"
   ]
  }
 ],
 "metadata": {
  "kernelspec": {
   "display_name": "intro_to_ml_class",
   "language": "python",
   "name": "python3"
  },
  "language_info": {
   "codemirror_mode": {
    "name": "ipython",
    "version": 3
   },
   "file_extension": ".py",
   "mimetype": "text/x-python",
   "name": "python",
   "nbconvert_exporter": "python",
   "pygments_lexer": "ipython3",
   "version": "3.8.8"
  },
  "orig_nbformat": 4,
  "vscode": {
   "interpreter": {
    "hash": "f6bfb5afe727b117337d9ffbdaca644bbb3eb5a4509399f1a3223d690d930c81"
   }
  }
 },
 "nbformat": 4,
 "nbformat_minor": 2
}
